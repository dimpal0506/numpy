{
 "cells": [
  {
   "cell_type": "markdown",
   "id": "bc973a71-816d-47e9-a3fb-8d4128875779",
   "metadata": {},
   "source": [
    "Theoretical Questions:"
   ]
  },
  {
   "cell_type": "code",
   "execution_count": 37,
   "id": "de56c9ed-56a1-4e43-91fa-1ee9fa90f603",
   "metadata": {},
   "outputs": [],
   "source": [
    "#1. Explain the purpose and advantages of NumPy in scientific computing and data analysis. How does it enhance Python's capabilities for numerical operations?\n",
    "#Answer:\n",
    "#NumPy is the fundamental package for numerical computations in Python, offering support for arrays, matrices, and an extensive collection of high-level mathematical functions.\n",
    "#Advantages of NumPy\n",
    "\n",
    "#Performance: NumPy’s array operations are executed at compiled C speed, making them significantly faster than equivalent operations performed using Python lists. \n",
    "#This performance boost is vital for handling large datasets and complex computations efficiently.\n",
    "\n",
    "#Memory Efficiency: NumPy arrays use contiguous memory blocks, reducing overhead compared to Python lists. \n",
    "#This memory efficiency is essential when dealing with extensive datasets and enables faster data access and manipulation.\n",
    "\n",
    "#Extensive Mathematical Functions: NumPy provides a rich collection of mathematical functions, making it an indispensable tool for scientific computing, linear algebra, statistics, and more. \n",
    "#These functions streamline complex calculations and data transformations.\n",
    "\n",
    "#Interoperability: NumPy integrates with other libraries and tools in the scientific Python ecosystem, such as SciPy, Pandas, Matplotlib, and scikit-learn. \n",
    "#This integration allows for a comprehensive data analysis, visualization, and machine learning suite.\n",
    "\n",
    "#NumPy is an indispensable tool for scientific computing, data analysis, and numerical computations in Python. \n",
    "#Its ability to efficiently handle arrays, perform complex mathematical operations, and seamlessly integrate with other libraries solidifies its position as the cornerstone of numerical computing in Python.\n",
    "\n",
    "#NumPy’s capability to handle extensive datasets, execute complex mathematical operations, and integrate with various scientific computing tools, \n",
    "#makes it an indispensable asset for researchers, data scientists, engineers, and analysts working on numerical computations and data analysis tasks.\n",
    "\n",
    "#NumPy’s array operations, mathematical functions, memory efficiency, and interoperability make it a foundational library in the Python ecosystem,\n",
    "#empowering users to explore, analyze, and derive insights from data seamlessly and efficiently."
   ]
  },
  {
   "cell_type": "code",
   "execution_count": 38,
   "id": "6b4b7c60-f98d-4465-9ff5-2db7e382160f",
   "metadata": {},
   "outputs": [],
   "source": [
    "#2. Compare and contrast np.mean() and np.average() functions in NumPy. When would you use one over the other?\n",
    "#Answer:\n",
    "#'Mean' & 'Average' are not the same thing. \n",
    "#They are frequently used interchangeably, but they should not even be. \n",
    "#The np.mean() method returns the arithmetic mean,\n",
    "#but the np.average() function returns the algebraic mean if no additional parameters are specified, \n",
    "#but it may also be used to compute a weighted average.\n",
    "#The term \"mean\" often refers to the \"arithmetic mean\", which is the sum of a set of numbers divided by the total number of the numbers in the set.\n",
    "#The term \"average\" refers to a variety of computations, the \"arithmetic mean\" is one of them. Other terms include 'median,' 'mode,' 'weighted mean,' 'interquartile mean,' and a variety of others.\n",
    "\n",
    "#Syntax of np.mean():\n",
    "       # numpy.mean(a, axis=None, dtype=None, **kwargs)\n",
    "\n",
    "#Syntax of np.average():\n",
    "      # numpy.average(a, axis=None, weights=None, **kwargs)\n",
    "\n",
    "\n",
    "#np.mean() accepts a few arguments that np.average() does not. \n",
    "#One of the most important is the dtype argument, which allows you to specify the data type that will be employed in the computation. \n",
    "\n",
    "#The algebraic mean of a NumPy array may be calculated using the numpy.mean() or numpy.average() functions.\n",
    "#To compute the weighted algebraic mean, we may use numpy.average().\n",
    "#We may utilize the dtype argument of the numpy.mean() method to compute the precise value of arithmetic mean.\n",
    "#numpy.average() ignores boolean masks and computes the average across the full set of data. \n",
    "#While the numpy.mean() function takes boolean masks into consideration, compute the mean only over unmasked data.\n"
   ]
  },
  {
   "cell_type": "code",
   "execution_count": 39,
   "id": "f59f584c-ce1f-4089-b3eb-f4739ba7c1ed",
   "metadata": {},
   "outputs": [
    {
     "name": "stdout",
     "output_type": "stream",
     "text": [
      "[0, 9, 8, 7, 6, 5, 4, 3, 2, 1]\n"
     ]
    }
   ],
   "source": [
    "#3. Describe the methods for reversing a NumPy array along different axes. Provide examples for 1D and 2D arrays.\n",
    "#Answer:\n",
    "# the reverse of a NumPy array indicates changing the order. The first element will become the last element, the second last, the last the first, and so on. There are several methods for reversing a numpy array.\n",
    "#Some of the most frequent methods for reversing a numpy array are as follows:\n",
    "\n",
    "#Utilizing the len() with Loops\n",
    "#Using the list slicing technique\n",
    "#Using the flip() function\n",
    "#Using the reverse() function\n",
    "\n",
    "#example:Utilizing the len() with Loops\n",
    "\n",
    "def reverse(nums):\n",
    "    start_index = 0\n",
    "    end_index = len(nums)-1\n",
    "    while end_index > start_index:\n",
    "        nums[start_index],nums[end_index] = nums[end_index],nums[start_index]\n",
    "        start_index = start_index + 1\n",
    "        end_index = end_index -1\n",
    "\n",
    "n = [1,2,3,4,5,6,7,8,9,0]\n",
    "reverse(n)\n",
    "print(n)"
   ]
  },
  {
   "cell_type": "code",
   "execution_count": 40,
   "id": "ea2dc1b9-f7f2-4110-8394-f1d54b1b0a32",
   "metadata": {},
   "outputs": [
    {
     "name": "stdout",
     "output_type": "stream",
     "text": [
      "[4 2 7 6 1 5 2]\n"
     ]
    }
   ],
   "source": [
    "#Using the list slicing technique\n",
    "\n",
    "import numpy as np\n",
    "arr = np.array([2, 5, 1, 6, 7, 2, 4])\n",
    "reve_arr = arr[::-1]\n",
    "print(reve_arr)"
   ]
  },
  {
   "cell_type": "code",
   "execution_count": 41,
   "id": "e449da91-b6a5-4aac-8e6d-743c456ef822",
   "metadata": {},
   "outputs": [
    {
     "name": "stdout",
     "output_type": "stream",
     "text": [
      "Reversed Array: \n",
      "[[12 11 10  9]\n",
      " [ 8  7  6  5]\n",
      " [ 4  3  2  1]]\n"
     ]
    }
   ],
   "source": [
    "#Using the flip() function\n",
    "\n",
    "import numpy as np\n",
    "arr = np.array([[1 , 2, 3, 4], [5, 6, 7, 8], [9, 10, 11, 12]])\n",
    "reversed_arr = np.flip(arr)\n",
    "print('Reversed Array: ')\n",
    "print(reversed_arr)"
   ]
  },
  {
   "cell_type": "code",
   "execution_count": 42,
   "id": "6f6cb902-3c3e-440c-8ae2-b435284e47ee",
   "metadata": {},
   "outputs": [
    {
     "name": "stdout",
     "output_type": "stream",
     "text": [
      "array('i', [1, 2, 6, 8, 4, 2])\n",
      "Reversed Array: array('i', [2, 4, 8, 6, 2, 1])\n"
     ]
    }
   ],
   "source": [
    "#Using the reverse() function\n",
    "\n",
    "import array\n",
    "\n",
    "arr=array.array('i',[1,2,6,8,4,2])\n",
    "print(arr)\n",
    "arr.reverse()\n",
    "print(\"Reversed Array:\",arr)"
   ]
  },
  {
   "cell_type": "code",
   "execution_count": 43,
   "id": "40f7e940-b370-4e6b-952e-89f227456663",
   "metadata": {},
   "outputs": [],
   "source": [
    "#4. How can you determine the data type of elements in a NumPy array? Discuss the importance of data types in memory management and performance.\n",
    "#Answer:\n",
    "#The data type used in the array is specified through the dtype attribute assigned to the array. \n",
    "#These can include integers, strings, floating-point numbers and so on.\n",
    "#You can check the type of data present in the NumPy array using the ‘.dtype’ attribute. \n",
    "#The data type of array ‘arr’ is ‘int’ (integer). Here, ‘32’ is related to memory allocation.\n",
    "\n",
    "#Choosing the appropriate data type is essential to ensure efficient memory usage and accurate numerical calculations in NumPy. \n",
    "#By understanding the characteristics of different data types, users can optimize their code for performance and precision.\n",
    "\n",
    "#Memory Efficiency\n",
    "#Size of Data Types: Different data types occupy different amounts of memory. Choosing the right data type minimizes memory usage.\n",
    "#Arrays vs. Lists: NumPy arrays are more memory-efficient than Python lists because they store elements of the same type in a contiguous block of memory. \n",
    "#This reduces overhead and improves cache performance.\n",
    "\n",
    "#Performance Optimization\n",
    "#Speed of Operations: Operations on NumPy arrays are generally faster than those on Python lists due to lower-level optimizations. \n",
    "#NumPy can leverage vectorized operations, which are significantly more efficient than Python loops.\n",
    "#Broadcasting: NumPy allows broadcasting operations between arrays of different shapes, but the efficiency of these operations is influenced by the data types involved.\n",
    "#Using compatible data types can enhance performance.\n",
    "\n",
    "#Understanding and selecting the appropriate data types in NumPy is vital for optimizing memory management and performance. \n",
    "#By being mindful of the trade-offs between precision, memory usage, and computational speed, you can create more efficient and effective numerical applications."
   ]
  },
  {
   "cell_type": "code",
   "execution_count": 44,
   "id": "031fee54-8a38-4b9f-895d-7e9a18e95d73",
   "metadata": {},
   "outputs": [],
   "source": [
    "#5. Define ndarrays in NumPy and explain their key features. How do they differ from standard Python lists?\n",
    "#Answer:\n",
    "#Homogeneous Data Types:\n",
    "#ndarrays require all elements to be of the same data type, which can be specified during array creation (e.g., int, float, bool).\n",
    "#This uniformity allows for optimized storage and faster computation compared to lists, which can hold mixed data types.\n",
    "\n",
    "#Multidimensional:\n",
    "#ndarrays can represent arrays of any number of dimensions (1D, 2D, 3D, etc.), \n",
    "#enabling the manipulation of complex datasets (e.g., matrices, tensors).\n",
    "#You can easily create and manipulate multi-dimensional arrays with a simple syntax.\n",
    "\n",
    "#Contiguous Memory Storage:\n",
    "#Data in an ndarray is stored in contiguous blocks of memory, \n",
    "#leading to better cache performance and more efficient access compared to lists, which store references to their elements.\n",
    "\n",
    "#Vectorized Operations:\n",
    "#ndarrays support vectorized operations, allowing you to perform element-wise operations without explicit loops. \n",
    "#This leads to concise code and improved performance.\n",
    "#NumPy leverages underlying C and Fortran libraries for these operations, \n",
    "#making them significantly faster than equivalent operations performed with Python loops.\n",
    "\n",
    "#Advanced Indexing and Slicing:\n",
    "#ndarrays support advanced indexing and slicing capabilities, allowing you to select and manipulate subsets of data easily.\n",
    "#You can use boolean indexing, fancy indexing, and multidimensional slicing to access elements in a flexible way.\n",
    "\n",
    "#Broadcasting:\n",
    "#Broadcasting allows you to perform operations on arrays of different shapes by automatically expanding the smaller array to match the shape of the larger array.\n",
    "#This feature is particularly useful for performing arithmetic operations on arrays without needing to reshape them explicitly.\n",
    "\n",
    "#Mathematical Functions:\n",
    "#NumPy provides a wide range of mathematical functions that operate on ndarrays, \n",
    "#including statistical functions, linear algebra operations, and Fourier transforms.\n",
    "#These functions are optimized for performance and can handle operations over entire arrays efficiently.\n",
    "\n",
    "#Data Manipulation:\n",
    "#ndarrays offer various methods for reshaping, stacking, splitting, and combining arrays, providing powerful tools for data manipulation.\n",
    "\n",
    "#Differences Between ndarrays and Python Lists\n",
    "#NumPy ndarrays are optimized for numerical computations with homogeneous data types and support for advanced features \n",
    "#like vectorization, broadcasting, and efficient memory management.\n",
    "#Python lists are more flexible in terms of data types and can store mixed types but are less efficient for numerical operations, especially with large datasets.\n"
   ]
  },
  {
   "cell_type": "code",
   "execution_count": 45,
   "id": "c85184ec-9c9b-47e5-95d3-c5c6b69f7a52",
   "metadata": {},
   "outputs": [],
   "source": [
    "#6. Analyze the performance benefits of NumPy arrays over Python lists for large-scale numerical operations.\n",
    "#Answer:\n",
    "#1. Contiguous Memory Allocation\n",
    "#Memory Efficiency: NumPy arrays store data in contiguous memory locations, \n",
    "#which allows for better cache performance and reduced memory fragmentation. \n",
    "#This contrasts with Python lists, which store references to objects in non-contiguous memory.\n",
    "#Reduced Overhead: The contiguous storage leads to lower overhead in accessing elements compared to lists, \n",
    "#where each element is a separate object that may be scattered in memory.\n",
    "\n",
    "#2. Homogeneous Data Types\n",
    "#Type Uniformity: NumPy arrays are homogeneous, meaning all elements are of the same data type.\n",
    "#This allows NumPy to optimize memory usage and computational speed, \n",
    "#as the system does not need to check data types during operations, unlike Python lists that can hold mixed types.\n",
    "#Faster Operations: Since NumPy knows the data type of all elements, \n",
    "#it can execute operations in compiled code (using C or Fortran), \n",
    "#leading to faster execution compared to Python lists, where operations are interpreted and can vary in speed due to type checks.\n",
    "\n",
    "#3. Vectorization\n",
    "#Element-Wise Operations: NumPy allows for vectorized operations, \n",
    "#which enable you to perform operations on entire arrays without the need for explicit loops.\n",
    "#This reduces the number of iterations in Python, significantly speeding up calculations.\n",
    "#Batch Processing: Vectorization allows NumPy to take advantage of low-level optimizations and multi-threading capabilities, \n",
    "#resulting in performance gains for large datasets.\n",
    "\n",
    "#The performance benefits of NumPy arrays over Python lists for large-scale numerical operations stem from their \n",
    "#contiguous memory allocation,type uniformity, vectorization, broadcasting, and optimized mathematical functions. \n",
    "#These features make NumPy not only faster but also more efficient in terms of memory usage,\n",
    "#making it the preferred choice for numerical computations and data analysis in Python. \n",
    "#As a result, tasks that would be computationally expensive and \n",
    "#slow with Python lists can be executed quickly and efficiently with NumPy arrays, \n",
    "#allowing for scalable solutions in scientific computing, data science, and machine learning.\n"
   ]
  },
  {
   "cell_type": "code",
   "execution_count": 46,
   "id": "d09eda81-750f-4457-a156-89ec09bc21b2",
   "metadata": {},
   "outputs": [
    {
     "name": "stdout",
     "output_type": "stream",
     "text": [
      "Result of vstack:\n",
      "[[ 1  2  3]\n",
      " [ 4  5  6]\n",
      " [ 7  8  9]\n",
      " [10 11 12]]\n"
     ]
    }
   ],
   "source": [
    "#7. Compare vstack() and hstack() functions in NumPy. Provide examples demonstrating their usage and output.\n",
    "#Answer:\n",
    "#In NumPy, vstack() and hstack() are functions used to stack arrays vertically and horizontally, respectively. \n",
    "#vstack()\n",
    "#Function: numpy.vstack(tup)\n",
    "#Description: Stacks arrays in sequence vertically (row-wise). The input arrays must have the same shape along all but the first axis.\n",
    "#Usage: Commonly used when you want to add new rows to an existing array.\n",
    "\n",
    "\n",
    "#hstack()\n",
    "#Function: numpy.hstack(tup)\n",
    "#Description: Stacks arrays in sequence horizontally (column-wise). The input arrays must have the same shape along all but the second axis.\n",
    "#Usage: Commonly used when you want to add new columns to an existing array.\n",
    "\n",
    "#Example of vstack():\n",
    "import numpy as np\n",
    "\n",
    "# Create two 2D arrays\n",
    "array1 = np.array([[1, 2, 3], [4, 5, 6]])\n",
    "array2 = np.array([[7, 8, 9], [10, 11, 12]])\n",
    "\n",
    "# Stack the arrays vertically\n",
    "result_vstack = np.vstack((array1, array2))\n",
    "\n",
    "print(\"Result of vstack:\")\n",
    "print(result_vstack)"
   ]
  },
  {
   "cell_type": "code",
   "execution_count": 48,
   "id": "39cb09e6-9ec4-41fd-87da-cdf9d8d98e62",
   "metadata": {},
   "outputs": [
    {
     "name": "stdout",
     "output_type": "stream",
     "text": [
      "Result of hstack:\n",
      "[[1 2 3 7]\n",
      " [4 5 6 8]]\n"
     ]
    }
   ],
   "source": [
    "#Example of hstack()\n",
    "import numpy as np\n",
    "\n",
    "# Create two 2D arrays\n",
    "array1 = np.array([[1, 2, 3], [4, 5, 6]])\n",
    "array2 = np.array([[7], [8]])\n",
    "\n",
    "# Stack the arrays horizontally\n",
    "result_hstack = np.hstack((array1, array2))\n",
    "\n",
    "print(\"Result of hstack:\")\n",
    "print(result_hstack)"
   ]
  },
  {
   "cell_type": "code",
   "execution_count": 49,
   "id": "3bf49c2e-5661-47bf-8bdd-88c5cead5357",
   "metadata": {},
   "outputs": [
    {
     "name": "stdout",
     "output_type": "stream",
     "text": [
      "Original Array:\n",
      "[[1 2 3]\n",
      " [4 5 6]]\n",
      "\n",
      "Result of fliplr:\n",
      "[[3 2 1]\n",
      " [6 5 4]]\n"
     ]
    }
   ],
   "source": [
    "#8. Explain the differences between fliplr() and flipud() methods in NumPy, including their effects on various array dimensions.\n",
    "#Answer:\n",
    "#fliplr():\n",
    "#Function: numpy.fliplr(m)\n",
    "#Description: Flips an array from left to right. This means that the columns of the array are reversed, but the rows remain unchanged.\n",
    "#Usage: It is primarily used for 2D arrays (matrices),\n",
    "#but it can also be applied to higher-dimensional arrays by treating the last two axes as rows and columns.\n",
    "\n",
    "\n",
    "#flipud():\n",
    "#Function: numpy.flipud(m)\n",
    "#Description: Flips an array upside down. This means that the rows of the array are reversed, but the columns remain unchanged.\n",
    "#Usage: Like fliplr(), it is primarily used for 2D arrays \n",
    "#but can be applied to higher-dimensional arrays by treating the first two axes as rows and columns.\n",
    "\n",
    "#Effects on Various Array Dimensions:\n",
    "#2D Arrays (Matrices):\n",
    "#fliplr(): Reverses columns, resulting in the last column becoming the first and the first column becoming the last.\n",
    "#flipud(): Reverses rows, making the last row the first and the first row the last.\n",
    "\n",
    "#1D Arrays:\n",
    "#Both Methods: fliplr() and flipud() have the same effect on 1D arrays, as they will both reverse the order of the elements.\n",
    "\n",
    "#Higher-Dimensional Arrays:\n",
    "#Both functions will still apply to the last two axes of the array, treating them as the rows and columns.\n",
    "\n",
    "#Example of fliplr():\n",
    "import numpy as np\n",
    "\n",
    "# Create a 2D array (matrix)\n",
    "array_2d = np.array([[1, 2, 3],\n",
    "                     [4, 5, 6]])\n",
    "\n",
    "# Flip the array left to right\n",
    "result_fliplr = np.fliplr(array_2d)\n",
    "\n",
    "print(\"Original Array:\")\n",
    "print(array_2d)\n",
    "print(\"\\nResult of fliplr:\")\n",
    "print(result_fliplr)"
   ]
  },
  {
   "cell_type": "code",
   "execution_count": 50,
   "id": "62515476-d469-4db4-93fa-38572192eebb",
   "metadata": {},
   "outputs": [
    {
     "name": "stdout",
     "output_type": "stream",
     "text": [
      "Original Array:\n",
      "[[1 2 3]\n",
      " [4 5 6]]\n",
      "\n",
      "Result of flipud:\n",
      "[[4 5 6]\n",
      " [1 2 3]]\n"
     ]
    }
   ],
   "source": [
    "#Example of flipud():\n",
    "import numpy as np\n",
    "\n",
    "# Create a 2D array (matrix)\n",
    "array_2d = np.array([[1, 2, 3],\n",
    "                     [4, 5, 6]])\n",
    "\n",
    "# Flip the array upside down\n",
    "result_flipud = np.flipud(array_2d)\n",
    "\n",
    "print(\"Original Array:\")\n",
    "print(array_2d)\n",
    "print(\"\\nResult of flipud:\")\n",
    "print(result_flipud)"
   ]
  },
  {
   "cell_type": "code",
   "execution_count": 52,
   "id": "5e560062-a0e6-4bdd-8976-a25f2d2f884c",
   "metadata": {},
   "outputs": [
    {
     "name": "stdout",
     "output_type": "stream",
     "text": [
      "Split into 3 parts:\n",
      "Sub-array 0: [1 2 3]\n",
      "Sub-array 1: [4 5 6]\n",
      "Sub-array 2: [7 8 9]\n"
     ]
    }
   ],
   "source": [
    "#9. Discuss the functionality of the array_split() method in NumPy. How does it handle uneven splits?\n",
    "#Answer:\n",
    "#he array_split() method in NumPy is used to split an array into multiple sub-arrays along a specified axis. \n",
    "#It provides a way to divide an array into sections, which can be useful for various data processing tasks.\n",
    "\n",
    "#Functionality of array_split():\n",
    "#Function Signature: numpy.array_split(ary, indices_or_sections, axis=0)\n",
    "\n",
    "#Parameters:\n",
    "#ary: The input array that you want to split.\n",
    "\n",
    "#indices_or_sections: This can be an integer or an array of indices:\n",
    "#If an integer, it specifies the number of equal-sized sub-arrays to create.\n",
    "#If an array of indices, it specifies the exact indices at which to split the array.\n",
    "\n",
    "#axis: The axis along which to split the array. The default is 0 (vertical split).\n",
    "\n",
    "#Return Value:\n",
    "#Returns a list of sub-arrays.\n",
    "#Handling Uneven Splits\n",
    "#When the size of the array is not perfectly divisible by the number of sections specified, \n",
    "#array_split() will handle the splits by distributing the elements as evenly as possible:\n",
    "\n",
    "#The method attempts to create sub-arrays of nearly equal size. \n",
    "#If there are any remainder elements after dividing, they will be distributed one by one to the first few sub-arrays.\n",
    "#This means that the first few sub-arrays may contain one more element than the others.\n",
    "\n",
    "#Example of array_split():\n",
    "import numpy as np\n",
    "\n",
    "# Create a 1D array\n",
    "array = np.array([1, 2, 3, 4, 5, 6, 7, 8, 9])\n",
    "\n",
    "# Split the array into 3 equal parts\n",
    "split_array = np.array_split(array, 3)\n",
    "\n",
    "print(\"Split into 3 parts:\")\n",
    "for i, sub_array in enumerate(split_array):\n",
    "    print(f\"Sub-array {i}: {sub_array}\")"
   ]
  },
  {
   "cell_type": "code",
   "execution_count": 53,
   "id": "867d2954-c4bc-4701-aec0-f9ba88757707",
   "metadata": {},
   "outputs": [
    {
     "name": "stdout",
     "output_type": "stream",
     "text": [
      "\n",
      "Split into 4 parts (uneven):\n",
      "Sub-array 0: [1 2 3]\n",
      "Sub-array 1: [4 5]\n",
      "Sub-array 2: [6 7]\n",
      "Sub-array 3: [8 9]\n"
     ]
    }
   ],
   "source": [
    "#Handling Uneven Splits:\n",
    "\n",
    "# Split the same array into 4 parts\n",
    "split_array_uneven = np.array_split(array, 4)\n",
    "\n",
    "print(\"\\nSplit into 4 parts (uneven):\")\n",
    "for i, sub_array in enumerate(split_array_uneven):\n",
    "    print(f\"Sub-array {i}: {sub_array}\")"
   ]
  },
  {
   "cell_type": "code",
   "execution_count": 55,
   "id": "6e863674-a088-4eee-9c64-37e06dc93441",
   "metadata": {},
   "outputs": [
    {
     "name": "stdout",
     "output_type": "stream",
     "text": [
      "Original array: [1 2 3 4 5]\n",
      "Result after vectorization: [11 12 13 14 15]\n"
     ]
    }
   ],
   "source": [
    "#10. Explain the concepts of vectorization and broadcasting in NumPy. How do they contribute to efficient array operations?\n",
    "#Answer:\n",
    "#Vectorization:\n",
    "#Vectorization refers to the ability to apply operations to entire arrays or \n",
    "#large datasets in a single step without the need for explicit loops. \n",
    "#In NumPy, this is achieved by using operations that are optimized and implemented in lower-level languages (such as C or Fortran), \n",
    "#allowing for faster execution.\n",
    "\n",
    "#Broadcasting:\n",
    "#Broadcasting is a powerful mechanism that allows NumPy to perform arithmetic operations on arrays of different shapes and sizes.\n",
    "#It automatically expands the smaller array across the larger array's dimensions without copying data,\n",
    "#thus enabling element-wise operations even when the dimensions do not match.\n",
    "\n",
    "#Contribution to Efficient Array Operations:\n",
    "#Performance Gains:\n",
    "#Both vectorization and broadcasting eliminate the need for explicit loops in Python, \n",
    "#which are generally slower due to the interpreted nature of Python. \n",
    "#This leads to a significant speedup in array operations, especially for large datasets.\n",
    "\n",
    "#Memory Efficiency:\n",
    "#Broadcasting reduces memory consumption by avoiding unnecessary copies of data. \n",
    "#Instead of creating full-size arrays, NumPy efficiently applies operations to the existing arrays without using extra memory.\n",
    "\n",
    "#Concise and Readable Code:\n",
    "#These concepts allow for more expressive and clear code, \n",
    "#making it easier to implement complex operations in fewer lines. This can lead to quicker development and fewer bugs.\n",
    "\n",
    "#Parallel Processing:\n",
    "#Under the hood, vectorized operations and broadcasting can leverage optimized libraries (like BLAS and LAPACK) \n",
    "#that may utilize multi-threading and other low-level optimizations, further enhancing performance.\n",
    "\n",
    "\n",
    "#Example of Vectorization:\n",
    "import numpy as np\n",
    "\n",
    "# Create a NumPy array\n",
    "array = np.array([1, 2, 3, 4, 5])\n",
    "\n",
    "# Vectorized operation: adding 10 to each element\n",
    "result = array + 10\n",
    "\n",
    "print(\"Original array:\", array)\n",
    "print(\"Result after vectorization:\", result)"
   ]
  },
  {
   "cell_type": "code",
   "execution_count": 56,
   "id": "8020e3b9-9886-4c74-be69-9c48b7da55fa",
   "metadata": {},
   "outputs": [
    {
     "name": "stdout",
     "output_type": "stream",
     "text": [
      "2D Array:\n",
      " [[10]\n",
      " [20]\n",
      " [30]]\n",
      "1D Array:\n",
      " [1 2 3]\n",
      "Result after broadcasting:\n",
      " [[11 12 13]\n",
      " [21 22 23]\n",
      " [31 32 33]]\n"
     ]
    }
   ],
   "source": [
    "#Example of Broadcasting:\n",
    "import numpy as np\n",
    "\n",
    "# Create a 1D array and a 2D array\n",
    "array_1d = np.array([1, 2, 3])\n",
    "array_2d = np.array([[10], [20], [30]])\n",
    "\n",
    "# Broadcasting: Adding a 1D array to a 2D array\n",
    "result_broadcasting = array_2d + array_1d\n",
    "\n",
    "print(\"2D Array:\\n\", array_2d)\n",
    "print(\"1D Array:\\n\", array_1d)\n",
    "print(\"Result after broadcasting:\\n\", result_broadcasting)"
   ]
  },
  {
   "cell_type": "markdown",
   "id": "e107337e-91fb-4d59-9f57-3beb0252de00",
   "metadata": {},
   "source": [
    "Practical Questions:"
   ]
  },
  {
   "cell_type": "code",
   "execution_count": 3,
   "id": "e965183b-97a8-4f25-8e82-d2fe6fb2dfe2",
   "metadata": {},
   "outputs": [],
   "source": [
    "#1. Create a 3x3 NumPy array with random integers between 1 and 100. Then, interchange its rows and columns.\n",
    "\n",
    "import numpy as np\n",
    "\n",
    "arr = np.random.randint(1,100, (3,3))"
   ]
  },
  {
   "cell_type": "code",
   "execution_count": 4,
   "id": "c98c287b-caa6-42cc-b422-c0052c1897db",
   "metadata": {},
   "outputs": [
    {
     "data": {
      "text/plain": [
       "array([[27, 70, 95],\n",
       "       [58,  1, 76],\n",
       "       [49, 92, 21]])"
      ]
     },
     "execution_count": 4,
     "metadata": {},
     "output_type": "execute_result"
    }
   ],
   "source": [
    "arr"
   ]
  },
  {
   "cell_type": "code",
   "execution_count": 5,
   "id": "744aca93-80a7-4c39-be89-9291e9b16606",
   "metadata": {},
   "outputs": [
    {
     "data": {
      "text/plain": [
       "array([[27, 58, 49],\n",
       "       [70,  1, 92],\n",
       "       [95, 76, 21]])"
      ]
     },
     "execution_count": 5,
     "metadata": {},
     "output_type": "execute_result"
    }
   ],
   "source": [
    "arr.T             # T refers to tanspose which is used to interchange rows and columns"
   ]
  },
  {
   "cell_type": "code",
   "execution_count": 10,
   "id": "80795925-f048-413e-b54f-71c5efbab3d3",
   "metadata": {},
   "outputs": [
    {
     "data": {
      "text/plain": [
       "array([0, 1, 2, 3, 4, 5, 6, 7, 8, 9])"
      ]
     },
     "execution_count": 10,
     "metadata": {},
     "output_type": "execute_result"
    }
   ],
   "source": [
    "#2. Generate a 1D NumPy array with 10 elements. Reshape it into a 2x5 array, then into a 5x2 array.\n",
    "\n",
    "arr1D = np.arange(10)\n",
    "arr1D"
   ]
  },
  {
   "cell_type": "code",
   "execution_count": 11,
   "id": "d0f2f197-f523-41a3-82ce-5ae60012997d",
   "metadata": {},
   "outputs": [
    {
     "data": {
      "text/plain": [
       "array([[0, 1, 2, 3, 4],\n",
       "       [5, 6, 7, 8, 9]])"
      ]
     },
     "execution_count": 11,
     "metadata": {},
     "output_type": "execute_result"
    }
   ],
   "source": [
    "arr1D.reshape(2,5)                  #reshape into 2x5"
   ]
  },
  {
   "cell_type": "code",
   "execution_count": 12,
   "id": "d1160a06-6505-4827-be15-036a538d4ab8",
   "metadata": {},
   "outputs": [
    {
     "data": {
      "text/plain": [
       "array([[0, 1],\n",
       "       [2, 3],\n",
       "       [4, 5],\n",
       "       [6, 7],\n",
       "       [8, 9]])"
      ]
     },
     "execution_count": 12,
     "metadata": {},
     "output_type": "execute_result"
    }
   ],
   "source": [
    "arr1D.reshape(5,2)                  ##reshape into 5x2"
   ]
  },
  {
   "cell_type": "code",
   "execution_count": 13,
   "id": "e674613e-1a1e-4abe-9c08-4ee303ef8819",
   "metadata": {},
   "outputs": [
    {
     "data": {
      "text/plain": [
       "array([[0.51329299, 0.09900609, 0.54010576, 0.84725695],\n",
       "       [0.16133308, 0.75161924, 0.79773497, 0.4257856 ],\n",
       "       [0.29898699, 0.5644327 , 0.77056822, 0.38957069],\n",
       "       [0.01172291, 0.79332696, 0.94853778, 0.38940608]])"
      ]
     },
     "execution_count": 13,
     "metadata": {},
     "output_type": "execute_result"
    }
   ],
   "source": [
    "#3. Create a 4x4 NumPy array with random float values. Add a border of zeros around it, resulting in a 6x6 array.\n",
    "\n",
    "arr2D = np.random.rand(4,4)\n",
    "arr2D"
   ]
  },
  {
   "cell_type": "code",
   "execution_count": 14,
   "id": "ee74d74c-6507-4b9c-a660-d6111594c657",
   "metadata": {},
   "outputs": [
    {
     "data": {
      "text/plain": [
       "array([[0.        , 0.        , 0.        , 0.        , 0.        ,\n",
       "        0.        ],\n",
       "       [0.        , 0.51329299, 0.09900609, 0.54010576, 0.84725695,\n",
       "        0.        ],\n",
       "       [0.        , 0.16133308, 0.75161924, 0.79773497, 0.4257856 ,\n",
       "        0.        ],\n",
       "       [0.        , 0.29898699, 0.5644327 , 0.77056822, 0.38957069,\n",
       "        0.        ],\n",
       "       [0.        , 0.01172291, 0.79332696, 0.94853778, 0.38940608,\n",
       "        0.        ],\n",
       "       [0.        , 0.        , 0.        , 0.        , 0.        ,\n",
       "        0.        ]])"
      ]
     },
     "execution_count": 14,
     "metadata": {},
     "output_type": "execute_result"
    }
   ],
   "source": [
    "arr = np.pad(arr2D, pad_width=1, mode='constant', constant_values=0)\n",
    "arr"
   ]
  },
  {
   "cell_type": "code",
   "execution_count": 15,
   "id": "3109e301-8b51-4cb1-bebe-cd68f03b5314",
   "metadata": {},
   "outputs": [
    {
     "data": {
      "text/plain": [
       "array([10, 15, 20, 25, 30, 35, 40, 45, 50, 55])"
      ]
     },
     "execution_count": 15,
     "metadata": {},
     "output_type": "execute_result"
    }
   ],
   "source": [
    "#4. Using NumPy, create an array of integers from 10 to 60 with a step of 5.\n",
    "\n",
    "arr = np.arange(10,60,5)\n",
    "arr"
   ]
  },
  {
   "cell_type": "code",
   "execution_count": 16,
   "id": "8b90699c-7bb3-466d-a5c1-23976296898a",
   "metadata": {},
   "outputs": [
    {
     "data": {
      "text/plain": [
       "['python', 'numpy', 'pandas']"
      ]
     },
     "execution_count": 16,
     "metadata": {},
     "output_type": "execute_result"
    }
   ],
   "source": [
    "#5. Create a NumPy array of strings ['python', 'numpy', 'pandas']. Apply different case transformations (uppercase, lowercase, title case, etc.) to each element.\n",
    "\n",
    "arr_of_strings = ['python', 'numpy', 'pandas']\n",
    "arr_of_strings"
   ]
  },
  {
   "cell_type": "code",
   "execution_count": 17,
   "id": "7a628c7c-5662-4f61-aafc-4dae99d592a0",
   "metadata": {},
   "outputs": [
    {
     "data": {
      "text/plain": [
       "array(['PYTHON', 'NUMPY', 'PANDAS'], dtype='<U6')"
      ]
     },
     "execution_count": 17,
     "metadata": {},
     "output_type": "execute_result"
    }
   ],
   "source": [
    "np.char.upper(arr_of_strings)                 #upper case"
   ]
  },
  {
   "cell_type": "code",
   "execution_count": 18,
   "id": "b5773328-0aac-41b2-8f7f-64abfb76e6d4",
   "metadata": {},
   "outputs": [
    {
     "data": {
      "text/plain": [
       "array(['python', 'numpy', 'pandas'], dtype='<U6')"
      ]
     },
     "execution_count": 18,
     "metadata": {},
     "output_type": "execute_result"
    }
   ],
   "source": [
    "np.char.lower(arr_of_strings)             #lower case"
   ]
  },
  {
   "cell_type": "code",
   "execution_count": 19,
   "id": "c8b5c955-2343-4c26-a863-e5b5dd79b044",
   "metadata": {},
   "outputs": [
    {
     "data": {
      "text/plain": [
       "array(['Python', 'Numpy', 'Pandas'], dtype='<U6')"
      ]
     },
     "execution_count": 19,
     "metadata": {},
     "output_type": "execute_result"
    }
   ],
   "source": [
    "np.char.title(arr_of_strings)              #title case"
   ]
  },
  {
   "cell_type": "code",
   "execution_count": 21,
   "id": "f4d2e0f8-1ed1-4e51-8ae3-68c59b1f371e",
   "metadata": {},
   "outputs": [
    {
     "data": {
      "text/plain": [
       "array(['python', 'numpy', 'pandas'], dtype='<U6')"
      ]
     },
     "execution_count": 21,
     "metadata": {},
     "output_type": "execute_result"
    }
   ],
   "source": [
    "#6. Generate a NumPy array of words. Insert a space between each character of every word in the array.\n",
    "\n",
    "arr = np.array(['python', 'numpy', 'pandas'])\n",
    "arr\n"
   ]
  },
  {
   "cell_type": "code",
   "execution_count": 22,
   "id": "7004afa8-7385-4fe9-8bd6-a609fa45b41f",
   "metadata": {},
   "outputs": [
    {
     "data": {
      "text/plain": [
       "array(['p y t h o n', 'n u m p y', 'p a n d a s'], dtype='<U11')"
      ]
     },
     "execution_count": 22,
     "metadata": {},
     "output_type": "execute_result"
    }
   ],
   "source": [
    "arr = np.char.join(' ', arr)\n",
    "arr"
   ]
  },
  {
   "cell_type": "code",
   "execution_count": 24,
   "id": "5e7d1209-47a3-4441-be01-445f996f37cb",
   "metadata": {},
   "outputs": [
    {
     "data": {
      "text/plain": [
       "array([[6, 2, 7],\n",
       "       [8, 1, 5],\n",
       "       [2, 3, 1]])"
      ]
     },
     "execution_count": 24,
     "metadata": {},
     "output_type": "execute_result"
    }
   ],
   "source": [
    "#7. Create two 2D NumPy arrays and perform element-wise addition, subtraction, multiplication, and division.\n",
    "\n",
    "arr = np.random.randint(1,10, (3,3))\n",
    "arr"
   ]
  },
  {
   "cell_type": "code",
   "execution_count": 25,
   "id": "169d02c3-5b53-47f7-a9a7-3dfb6ffb64f8",
   "metadata": {},
   "outputs": [
    {
     "data": {
      "text/plain": [
       "array([[11,  7, 12],\n",
       "       [13,  6, 10],\n",
       "       [ 7,  8,  6]])"
      ]
     },
     "execution_count": 25,
     "metadata": {},
     "output_type": "execute_result"
    }
   ],
   "source": [
    "addition = arr + 5                     #addition\n",
    "addition"
   ]
  },
  {
   "cell_type": "code",
   "execution_count": 26,
   "id": "8d19ee20-fae2-4231-9a5f-77e2f582730f",
   "metadata": {},
   "outputs": [
    {
     "data": {
      "text/plain": [
       "array([[ 4,  0,  5],\n",
       "       [ 6, -1,  3],\n",
       "       [ 0,  1, -1]])"
      ]
     },
     "execution_count": 26,
     "metadata": {},
     "output_type": "execute_result"
    }
   ],
   "source": [
    "subtraction = arr - 2                   #subtraction\n",
    "subtraction"
   ]
  },
  {
   "cell_type": "code",
   "execution_count": 27,
   "id": "c13ee0f9-3b2f-4b19-a6d1-43e45be01940",
   "metadata": {},
   "outputs": [
    {
     "data": {
      "text/plain": [
       "array([[18,  6, 21],\n",
       "       [24,  3, 15],\n",
       "       [ 6,  9,  3]])"
      ]
     },
     "execution_count": 27,
     "metadata": {},
     "output_type": "execute_result"
    }
   ],
   "source": [
    "multiplication = arr * 3                 #multiplication\n",
    "multiplication"
   ]
  },
  {
   "cell_type": "code",
   "execution_count": 28,
   "id": "e57564e3-867c-430e-a9ad-1d8d3a19ed1c",
   "metadata": {},
   "outputs": [
    {
     "data": {
      "text/plain": [
       "array([[1.5 , 0.5 , 1.75],\n",
       "       [2.  , 0.25, 1.25],\n",
       "       [0.5 , 0.75, 0.25]])"
      ]
     },
     "execution_count": 28,
     "metadata": {},
     "output_type": "execute_result"
    }
   ],
   "source": [
    "division = arr / 4                      #division\n",
    "division"
   ]
  },
  {
   "cell_type": "code",
   "execution_count": 29,
   "id": "a1834ff6-ad3a-410b-9620-aa53113cfe0a",
   "metadata": {},
   "outputs": [
    {
     "data": {
      "text/plain": [
       "array([[1, 0, 0, 0, 0],\n",
       "       [0, 1, 0, 0, 0],\n",
       "       [0, 0, 1, 0, 0],\n",
       "       [0, 0, 0, 1, 0],\n",
       "       [0, 0, 0, 0, 1]])"
      ]
     },
     "execution_count": 29,
     "metadata": {},
     "output_type": "execute_result"
    }
   ],
   "source": [
    "#8. Use NumPy to create a 5x5 identity matrix, then extract its diagonal elements.\n",
    "\n",
    "identity_matrix = np.eye(5,5,dtype=int)\n",
    "identity_matrix"
   ]
  },
  {
   "cell_type": "code",
   "execution_count": 30,
   "id": "72b459b7-fa64-4ae3-98a2-449595a6adec",
   "metadata": {},
   "outputs": [
    {
     "data": {
      "text/plain": [
       "array([1, 1, 1, 1, 1])"
      ]
     },
     "execution_count": 30,
     "metadata": {},
     "output_type": "execute_result"
    }
   ],
   "source": [
    "np.diagonal(identity_matrix, offset=0, axis1=0, axis2=1)"
   ]
  },
  {
   "cell_type": "code",
   "execution_count": 31,
   "id": "8549e73a-e9e2-47e7-8cae-1477b94918af",
   "metadata": {},
   "outputs": [
    {
     "data": {
      "text/plain": [
       "array([688, 866, 943, 342, 172, 760, 547,  72,   5, 697, 510, 915, 992,\n",
       "       680, 746, 265, 767, 331,  67, 526, 556, 381, 809, 851, 421, 297,\n",
       "       465, 216, 320, 367, 307, 620, 298,  45, 397,  49, 865, 702, 758,\n",
       "       267, 579,  31, 155, 122, 537, 503, 997, 817, 364,  73, 266, 107,\n",
       "       333, 923, 939, 986, 303, 480, 634, 998, 494, 248, 649,  21, 363,\n",
       "       269, 663, 484, 568, 421,   2, 204, 903, 502, 734, 507, 630, 375,\n",
       "       989, 181, 884, 317, 324, 471, 271, 155, 181, 324, 638, 139, 301,\n",
       "       617, 228, 781,  50, 657,  78, 785, 113, 440])"
      ]
     },
     "execution_count": 31,
     "metadata": {},
     "output_type": "execute_result"
    }
   ],
   "source": [
    "#9. Generate a NumPy array of 100 random integers between 0 and 1000. Find and display all prime numbers in this array.\n",
    "\n",
    "\n",
    "arr = np.random.randint(0,1000,100)\n",
    "arr"
   ]
  },
  {
   "cell_type": "code",
   "execution_count": 33,
   "id": "05290fe0-9712-432e-bbc2-f5da49a9984a",
   "metadata": {},
   "outputs": [
    {
     "data": {
      "text/plain": [
       "[547,\n",
       " 5,\n",
       " 331,\n",
       " 67,\n",
       " 809,\n",
       " 421,\n",
       " 367,\n",
       " 307,\n",
       " 397,\n",
       " 31,\n",
       " 503,\n",
       " 997,\n",
       " 73,\n",
       " 107,\n",
       " 269,\n",
       " 421,\n",
       " 2,\n",
       " 181,\n",
       " 317,\n",
       " 271,\n",
       " 181,\n",
       " 139,\n",
       " 617,\n",
       " 113]"
      ]
     },
     "execution_count": 33,
     "metadata": {},
     "output_type": "execute_result"
    }
   ],
   "source": [
    "def prime(arr):\n",
    "    prime_list = []\n",
    "    for i in arr:\n",
    "        if i == 0 or i == 1:\n",
    "            continue\n",
    "        else:\n",
    "            for j in range(2, int(i/2)+1):\n",
    "                if i % j == 0:\n",
    "                    break\n",
    "            else:\n",
    "                prime_list.append(i)\n",
    "    return prime_list\n",
    "\n",
    "prime(arr)"
   ]
  },
  {
   "cell_type": "code",
   "execution_count": 34,
   "id": "9a84ebc4-29e3-439c-bab6-8a85ee289007",
   "metadata": {},
   "outputs": [
    {
     "data": {
      "text/plain": [
       "array([31, 16, 20, 11, 24, 19, 36, 11, 14, 30, 10, 14, 14, 14, 26, 18, 24,\n",
       "       13, 33, 13, 29, 38, 33, 31, 23, 10, 28, 33, 13, 31])"
      ]
     },
     "execution_count": 34,
     "metadata": {},
     "output_type": "execute_result"
    }
   ],
   "source": [
    "#10. Create a NumPy array representing daily temperatures for a month. Calculate and display the weekly averages.\n",
    "\n",
    "temp_of_month = np.random.randint(10,40,30)\n",
    "temp_of_month"
   ]
  },
  {
   "cell_type": "code",
   "execution_count": 35,
   "id": "bdb68ebf-28ac-4238-91b6-fa74d530ec24",
   "metadata": {},
   "outputs": [
    {
     "data": {
      "text/plain": [
       "22.0"
      ]
     },
     "execution_count": 35,
     "metadata": {},
     "output_type": "execute_result"
    }
   ],
   "source": [
    "np.mean(temp_of_month)"
   ]
  },
  {
   "cell_type": "code",
   "execution_count": null,
   "id": "fcf959ce-3cac-4956-ac72-ccdf2d7845ee",
   "metadata": {},
   "outputs": [],
   "source": []
  }
 ],
 "metadata": {
  "kernelspec": {
   "display_name": "Python 3 (ipykernel)",
   "language": "python",
   "name": "python3"
  },
  "language_info": {
   "codemirror_mode": {
    "name": "ipython",
    "version": 3
   },
   "file_extension": ".py",
   "mimetype": "text/x-python",
   "name": "python",
   "nbconvert_exporter": "python",
   "pygments_lexer": "ipython3",
   "version": "3.10.8"
  }
 },
 "nbformat": 4,
 "nbformat_minor": 5
}
